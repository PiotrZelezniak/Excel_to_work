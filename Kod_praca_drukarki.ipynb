{
 "cells": [
  {
   "cell_type": "code",
   "execution_count": 1,
   "id": "2144bbce",
   "metadata": {},
   "outputs": [],
   "source": [
    "import pandas as pd\n",
    "import openpyxl as px\n",
    "from openpyxl.utils.dataframe import dataframe_to_rows\n",
    "from openpyxl.styles import Alignment\n",
    "import xlsxwriter\n",
    "from openpyxl.styles import PatternFill"
   ]
  },
  {
   "cell_type": "code",
   "execution_count": 2,
   "id": "dce7d5f9",
   "metadata": {},
   "outputs": [],
   "source": [
    "read_file = pd.read_csv (r'C:\\Users\\pipel\\OneDrive\\Pulpit\\druki.txt')\n"
   ]
  },
  {
   "cell_type": "code",
   "execution_count": 3,
   "id": "d8429d72",
   "metadata": {},
   "outputs": [],
   "source": [
    "read_file.to_csv (r'C:\\Users\\pipel\\OneDrive\\Pulpit\\druki_new.csv', index=None)"
   ]
  },
  {
   "cell_type": "code",
   "execution_count": 4,
   "id": "bd7a1e43",
   "metadata": {},
   "outputs": [],
   "source": [
    "data=pd.read_csv (r'C:\\Users\\pipel\\OneDrive\\Pulpit\\druki_new.csv', parse_dates=['data'])"
   ]
  },
  {
   "cell_type": "code",
   "execution_count": 5,
   "id": "1153426c",
   "metadata": {},
   "outputs": [
    {
     "data": {
      "text/html": [
       "<div>\n",
       "<style scoped>\n",
       "    .dataframe tbody tr th:only-of-type {\n",
       "        vertical-align: middle;\n",
       "    }\n",
       "\n",
       "    .dataframe tbody tr th {\n",
       "        vertical-align: top;\n",
       "    }\n",
       "\n",
       "    .dataframe thead th {\n",
       "        text-align: right;\n",
       "    }\n",
       "</style>\n",
       "<table border=\"1\" class=\"dataframe\">\n",
       "  <thead>\n",
       "    <tr style=\"text-align: right;\">\n",
       "      <th></th>\n",
       "      <th>nazwa</th>\n",
       "      <th>drukarka</th>\n",
       "      <th>godzina</th>\n",
       "      <th>minuta</th>\n",
       "      <th>czas</th>\n",
       "      <th>waga</th>\n",
       "      <th>material</th>\n",
       "      <th>dysza</th>\n",
       "      <th>koszt energii</th>\n",
       "      <th>koszt materiału</th>\n",
       "      <th>wycena</th>\n",
       "      <th>zysk</th>\n",
       "      <th>data</th>\n",
       "    </tr>\n",
       "  </thead>\n",
       "  <tbody>\n",
       "    <tr>\n",
       "      <th>0</th>\n",
       "      <td>klocek</td>\n",
       "      <td>blixet</td>\n",
       "      <td>12</td>\n",
       "      <td>24</td>\n",
       "      <td>744</td>\n",
       "      <td>120</td>\n",
       "      <td>PLA</td>\n",
       "      <td>1.0</td>\n",
       "      <td>15.2520</td>\n",
       "      <td>18.0</td>\n",
       "      <td>0</td>\n",
       "      <td>-33.2520</td>\n",
       "      <td>2022-11-30</td>\n",
       "    </tr>\n",
       "    <tr>\n",
       "      <th>1</th>\n",
       "      <td>kolo</td>\n",
       "      <td>reprinter</td>\n",
       "      <td>4</td>\n",
       "      <td>32</td>\n",
       "      <td>272</td>\n",
       "      <td>344</td>\n",
       "      <td>ABS</td>\n",
       "      <td>0.6</td>\n",
       "      <td>5.5760</td>\n",
       "      <td>51.6</td>\n",
       "      <td>0</td>\n",
       "      <td>-57.1760</td>\n",
       "      <td>2022-08-23</td>\n",
       "    </tr>\n",
       "    <tr>\n",
       "      <th>2</th>\n",
       "      <td>Grzebien</td>\n",
       "      <td>blixet</td>\n",
       "      <td>3</td>\n",
       "      <td>23</td>\n",
       "      <td>203</td>\n",
       "      <td>254</td>\n",
       "      <td>Impact Pla</td>\n",
       "      <td>0.8</td>\n",
       "      <td>4.1615</td>\n",
       "      <td>38.1</td>\n",
       "      <td>0</td>\n",
       "      <td>-42.2615</td>\n",
       "      <td>2022-10-04</td>\n",
       "    </tr>\n",
       "  </tbody>\n",
       "</table>\n",
       "</div>"
      ],
      "text/plain": [
       "      nazwa   drukarka  godzina  minuta  czas  waga    material  dysza  \\\n",
       "0    klocek     blixet       12      24   744   120         PLA    1.0   \n",
       "1      kolo  reprinter        4      32   272   344         ABS    0.6   \n",
       "2  Grzebien     blixet        3      23   203   254  Impact Pla    0.8   \n",
       "\n",
       "   koszt energii  koszt materiału  wycena     zysk       data  \n",
       "0        15.2520             18.0       0 -33.2520 2022-11-30  \n",
       "1         5.5760             51.6       0 -57.1760 2022-08-23  \n",
       "2         4.1615             38.1       0 -42.2615 2022-10-04  "
      ]
     },
     "execution_count": 5,
     "metadata": {},
     "output_type": "execute_result"
    }
   ],
   "source": [
    "data['czas']=data['godzina']*60+data['minuta']\n",
    "data['koszt energii']=data['czas']*1.23/60\n",
    "data['koszt materiału']=data['waga']*0.15\n",
    "data['wycena']=0\n",
    "data['zysk']=data['wycena']-data['koszt energii']-data['koszt materiału']\n",
    "data_v2=data[['nazwa','drukarka','godzina','minuta','czas','waga','material','dysza','koszt energii','koszt materiału','wycena','zysk','data']]\n",
    "data_v2"
   ]
  },
  {
   "cell_type": "code",
   "execution_count": 6,
   "id": "3e886f8d",
   "metadata": {},
   "outputs": [
    {
     "data": {
      "text/html": [
       "<div>\n",
       "<style scoped>\n",
       "    .dataframe tbody tr th:only-of-type {\n",
       "        vertical-align: middle;\n",
       "    }\n",
       "\n",
       "    .dataframe tbody tr th {\n",
       "        vertical-align: top;\n",
       "    }\n",
       "\n",
       "    .dataframe thead th {\n",
       "        text-align: right;\n",
       "    }\n",
       "</style>\n",
       "<table border=\"1\" class=\"dataframe\">\n",
       "  <thead>\n",
       "    <tr style=\"text-align: right;\">\n",
       "      <th></th>\n",
       "      <th>nazwa</th>\n",
       "      <th>drukarka</th>\n",
       "      <th>godzina</th>\n",
       "      <th>minuta</th>\n",
       "      <th>czas</th>\n",
       "      <th>waga</th>\n",
       "      <th>material</th>\n",
       "      <th>dysza</th>\n",
       "      <th>koszt energii</th>\n",
       "      <th>koszt materiału</th>\n",
       "      <th>wycena</th>\n",
       "      <th>zysk</th>\n",
       "      <th>data</th>\n",
       "    </tr>\n",
       "  </thead>\n",
       "  <tbody>\n",
       "    <tr>\n",
       "      <th>0</th>\n",
       "      <td>klocek</td>\n",
       "      <td>blixet</td>\n",
       "      <td>12</td>\n",
       "      <td>24</td>\n",
       "      <td>744</td>\n",
       "      <td>120</td>\n",
       "      <td>PLA</td>\n",
       "      <td>1.0</td>\n",
       "      <td>15.2520</td>\n",
       "      <td>18.0</td>\n",
       "      <td>0</td>\n",
       "      <td>-33.2520</td>\n",
       "      <td>2022-11-30</td>\n",
       "    </tr>\n",
       "    <tr>\n",
       "      <th>2</th>\n",
       "      <td>Grzebien</td>\n",
       "      <td>blixet</td>\n",
       "      <td>3</td>\n",
       "      <td>23</td>\n",
       "      <td>203</td>\n",
       "      <td>254</td>\n",
       "      <td>Impact Pla</td>\n",
       "      <td>0.8</td>\n",
       "      <td>4.1615</td>\n",
       "      <td>38.1</td>\n",
       "      <td>0</td>\n",
       "      <td>-42.2615</td>\n",
       "      <td>2022-10-04</td>\n",
       "    </tr>\n",
       "    <tr>\n",
       "      <th>1</th>\n",
       "      <td>kolo</td>\n",
       "      <td>reprinter</td>\n",
       "      <td>4</td>\n",
       "      <td>32</td>\n",
       "      <td>272</td>\n",
       "      <td>344</td>\n",
       "      <td>ABS</td>\n",
       "      <td>0.6</td>\n",
       "      <td>5.5760</td>\n",
       "      <td>51.6</td>\n",
       "      <td>0</td>\n",
       "      <td>-57.1760</td>\n",
       "      <td>2022-08-23</td>\n",
       "    </tr>\n",
       "  </tbody>\n",
       "</table>\n",
       "</div>"
      ],
      "text/plain": [
       "      nazwa   drukarka  godzina  minuta  czas  waga    material  dysza  \\\n",
       "0    klocek     blixet       12      24   744   120         PLA    1.0   \n",
       "2  Grzebien     blixet        3      23   203   254  Impact Pla    0.8   \n",
       "1      kolo  reprinter        4      32   272   344         ABS    0.6   \n",
       "\n",
       "   koszt energii  koszt materiału  wycena     zysk       data  \n",
       "0        15.2520             18.0       0 -33.2520 2022-11-30  \n",
       "2         4.1615             38.1       0 -42.2615 2022-10-04  \n",
       "1         5.5760             51.6       0 -57.1760 2022-08-23  "
      ]
     },
     "execution_count": 6,
     "metadata": {},
     "output_type": "execute_result"
    }
   ],
   "source": [
    "grouped_data=data_v2.sort_values(['drukarka'])\n",
    "grouped_data"
   ]
  },
  {
   "cell_type": "code",
   "execution_count": 7,
   "id": "d5c02c87",
   "metadata": {},
   "outputs": [],
   "source": [
    "blixet_grouped_data=grouped_data.loc[grouped_data['drukarka']=='blixet']"
   ]
  },
  {
   "cell_type": "code",
   "execution_count": 8,
   "id": "63576b9a",
   "metadata": {},
   "outputs": [],
   "source": [
    "reprinter_grouped_data=grouped_data.loc[grouped_data['drukarka']=='reprinter']"
   ]
  },
  {
   "cell_type": "code",
   "execution_count": 9,
   "id": "fdb365c4",
   "metadata": {},
   "outputs": [
    {
     "name": "stdout",
     "output_type": "stream",
     "text": [
      "      nazwa drukarka  godzina  minuta  czas  waga    material  dysza  \\\n",
      "0    klocek   blixet       12      24   744   120         PLA    1.0   \n",
      "2  Grzebien   blixet        3      23   203   254  Impact Pla    0.8   \n",
      "\n",
      "   koszt energii  koszt materiału  wycena     zysk       data  \n",
      "0        15.2520             18.0       0 -33.2520 2022-11-30  \n",
      "2         4.1615             38.1       0 -42.2615 2022-10-04  \n"
     ]
    }
   ],
   "source": [
    "df_blixet=pd.DataFrame(blixet_grouped_data)\n",
    "print(df_blixet)"
   ]
  },
  {
   "cell_type": "code",
   "execution_count": 10,
   "id": "b973083d",
   "metadata": {},
   "outputs": [
    {
     "data": {
      "text/html": [
       "<div>\n",
       "<style scoped>\n",
       "    .dataframe tbody tr th:only-of-type {\n",
       "        vertical-align: middle;\n",
       "    }\n",
       "\n",
       "    .dataframe tbody tr th {\n",
       "        vertical-align: top;\n",
       "    }\n",
       "\n",
       "    .dataframe thead th {\n",
       "        text-align: right;\n",
       "    }\n",
       "</style>\n",
       "<table border=\"1\" class=\"dataframe\">\n",
       "  <thead>\n",
       "    <tr style=\"text-align: right;\">\n",
       "      <th></th>\n",
       "      <th>nazwa</th>\n",
       "      <th>drukarka</th>\n",
       "      <th>godzina</th>\n",
       "      <th>minuta</th>\n",
       "      <th>czas</th>\n",
       "      <th>waga</th>\n",
       "      <th>material</th>\n",
       "      <th>dysza</th>\n",
       "      <th>koszt energii</th>\n",
       "      <th>koszt materiału</th>\n",
       "      <th>wycena</th>\n",
       "      <th>zysk</th>\n",
       "      <th>data</th>\n",
       "    </tr>\n",
       "  </thead>\n",
       "  <tbody>\n",
       "    <tr>\n",
       "      <th>2</th>\n",
       "      <td>Grzebien</td>\n",
       "      <td>blixet</td>\n",
       "      <td>3</td>\n",
       "      <td>23</td>\n",
       "      <td>203</td>\n",
       "      <td>254</td>\n",
       "      <td>Impact Pla</td>\n",
       "      <td>0.8</td>\n",
       "      <td>4.1615</td>\n",
       "      <td>38.1</td>\n",
       "      <td>0</td>\n",
       "      <td>-42.2615</td>\n",
       "      <td>2022-10-04</td>\n",
       "    </tr>\n",
       "    <tr>\n",
       "      <th>0</th>\n",
       "      <td>klocek</td>\n",
       "      <td>blixet</td>\n",
       "      <td>12</td>\n",
       "      <td>24</td>\n",
       "      <td>744</td>\n",
       "      <td>120</td>\n",
       "      <td>PLA</td>\n",
       "      <td>1.0</td>\n",
       "      <td>15.2520</td>\n",
       "      <td>18.0</td>\n",
       "      <td>0</td>\n",
       "      <td>-33.2520</td>\n",
       "      <td>2022-11-30</td>\n",
       "    </tr>\n",
       "  </tbody>\n",
       "</table>\n",
       "</div>"
      ],
      "text/plain": [
       "      nazwa drukarka  godzina  minuta  czas  waga    material  dysza  \\\n",
       "2  Grzebien   blixet        3      23   203   254  Impact Pla    0.8   \n",
       "0    klocek   blixet       12      24   744   120         PLA    1.0   \n",
       "\n",
       "   koszt energii  koszt materiału  wycena     zysk       data  \n",
       "2         4.1615             38.1       0 -42.2615 2022-10-04  \n",
       "0        15.2520             18.0       0 -33.2520 2022-11-30  "
      ]
     },
     "execution_count": 10,
     "metadata": {},
     "output_type": "execute_result"
    }
   ],
   "source": [
    "df_blixet=df_blixet.sort_values(by=\"data\")\n",
    "df_blixet"
   ]
  },
  {
   "cell_type": "code",
   "execution_count": 11,
   "id": "5a7a3082",
   "metadata": {},
   "outputs": [
    {
     "data": {
      "text/html": [
       "<div>\n",
       "<style scoped>\n",
       "    .dataframe tbody tr th:only-of-type {\n",
       "        vertical-align: middle;\n",
       "    }\n",
       "\n",
       "    .dataframe tbody tr th {\n",
       "        vertical-align: top;\n",
       "    }\n",
       "\n",
       "    .dataframe thead th {\n",
       "        text-align: right;\n",
       "    }\n",
       "</style>\n",
       "<table border=\"1\" class=\"dataframe\">\n",
       "  <thead>\n",
       "    <tr style=\"text-align: right;\">\n",
       "      <th></th>\n",
       "      <th>nazwa</th>\n",
       "      <th>drukarka</th>\n",
       "      <th>godzina</th>\n",
       "      <th>minuta</th>\n",
       "      <th>czas</th>\n",
       "      <th>waga</th>\n",
       "      <th>material</th>\n",
       "      <th>dysza</th>\n",
       "      <th>koszt energii</th>\n",
       "      <th>koszt materiału</th>\n",
       "      <th>wycena</th>\n",
       "      <th>zysk</th>\n",
       "      <th>data</th>\n",
       "    </tr>\n",
       "  </thead>\n",
       "  <tbody>\n",
       "    <tr>\n",
       "      <th>1</th>\n",
       "      <td>kolo</td>\n",
       "      <td>reprinter</td>\n",
       "      <td>4</td>\n",
       "      <td>32</td>\n",
       "      <td>272</td>\n",
       "      <td>344</td>\n",
       "      <td>ABS</td>\n",
       "      <td>0.6</td>\n",
       "      <td>5.576</td>\n",
       "      <td>51.6</td>\n",
       "      <td>0</td>\n",
       "      <td>-57.176</td>\n",
       "      <td>2022-08-23</td>\n",
       "    </tr>\n",
       "  </tbody>\n",
       "</table>\n",
       "</div>"
      ],
      "text/plain": [
       "  nazwa   drukarka  godzina  minuta  czas  waga material  dysza  \\\n",
       "1  kolo  reprinter        4      32   272   344      ABS    0.6   \n",
       "\n",
       "   koszt energii  koszt materiału  wycena    zysk       data  \n",
       "1          5.576             51.6       0 -57.176 2022-08-23  "
      ]
     },
     "execution_count": 11,
     "metadata": {},
     "output_type": "execute_result"
    }
   ],
   "source": [
    "df_reprinter=pd.DataFrame(reprinter_grouped_data)\n",
    "df_reprinter=df_reprinter.sort_values(by=\"data\")\n",
    "df_reprinter"
   ]
  },
  {
   "cell_type": "code",
   "execution_count": 12,
   "id": "d96f305c",
   "metadata": {},
   "outputs": [
    {
     "name": "stdout",
     "output_type": "stream",
     "text": [
      "2\n"
     ]
    }
   ],
   "source": [
    "where_start_for_reprinter=len(df_blixet.index)\n",
    "reprinter_lenght=len(df_reprinter.index)\n",
    "print(where_start_for_reprinter)"
   ]
  },
  {
   "cell_type": "code",
   "execution_count": 13,
   "id": "cc2f31a6",
   "metadata": {},
   "outputs": [],
   "source": [
    "writer = pd.ExcelWriter('F:\\praca_excel\\drukarki_excel_v2.xlsx', engine='xlsxwriter')\n"
   ]
  },
  {
   "cell_type": "code",
   "execution_count": 14,
   "id": "9fd7fe3e",
   "metadata": {},
   "outputs": [],
   "source": [
    "df_blixet.to_excel(writer, sheet_name='projekty',startrow=1, index=False)"
   ]
  },
  {
   "cell_type": "code",
   "execution_count": 15,
   "id": "08e80974",
   "metadata": {},
   "outputs": [],
   "source": [
    "df_reprinter.to_excel(writer, sheet_name='projekty',startrow=where_start_for_reprinter+4, index=False)"
   ]
  },
  {
   "cell_type": "code",
   "execution_count": 16,
   "id": "1acbc526",
   "metadata": {},
   "outputs": [],
   "source": [
    "writer.save()\n"
   ]
  },
  {
   "cell_type": "code",
   "execution_count": 25,
   "id": "5c4a2c91",
   "metadata": {},
   "outputs": [],
   "source": [
    "wb=px.load_workbook('F:\\praca_excel\\drukarki_excel_v2.xlsx')\n",
    "sheet=wb['projekty']\n",
    "sheet.column_dimensions['G'].width=15\n",
    "sheet.column_dimensions['I'].width=15\n",
    "sheet.column_dimensions['J'].width=15\n",
    "sheet.column_dimensions['L'].width=15\n",
    "sheet.column_dimensions['M'].width=20\n",
    "sheet.merge_cells(start_row=1, start_column=1, end_row=1, end_column=13)\n",
    "sheet.merge_cells(start_row=where_start_for_reprinter+4, start_column=1, end_row=where_start_for_reprinter+4, end_column=13)\n",
    "sheet.cell(row=1, column=1).value=\"blixet\"\n",
    "sheet.cell(row=where_start_for_reprinter+4, column=1).value=\"Reprinter\"\n",
    "sheet.cell(row=1, column=1).alignment = Alignment(horizontal=\"center\")\n",
    "sheet.cell(row=where_start_for_reprinter+4, column=1).alignment=Alignment(horizontal=\"center\")\n",
    "sheet.cell(row=1, column=1).fill=PatternFill(patternType=\"solid\", fgColor=\"c64747\")\n",
    "sheet.cell(row=where_start_for_reprinter+4, column=1).fill=PatternFill(patternType=\"solid\", fgColor=\"c64747\")\n",
    "\n",
    "for rows in sheet.iter_rows(min_row=2, max_row=where_start_for_reprinter+2, min_col=12, max_col=12):\n",
    "    for cell in rows:\n",
    "        cell.fill = PatternFill(fill_type = \"solid\", fgColor=\"03FCF4\")\n",
    "\n",
    "for rows in sheet.iter_rows(min_row=where_start_for_reprinter+5, max_row=where_start_for_reprinter+5+reprinter_lenght, min_col=12, max_col=12):\n",
    "    for cell in rows:\n",
    "        cell.fill = PatternFill(fill_type = \"solid\", fgColor=\"03FCF4\")\n",
    "        \n",
    "wb.save('F:\\praca_excel\\drukarki_excel_v3.xlsx')"
   ]
  },
  {
   "cell_type": "code",
   "execution_count": null,
   "id": "e1d23a3c",
   "metadata": {},
   "outputs": [],
   "source": []
  },
  {
   "cell_type": "code",
   "execution_count": null,
   "id": "81ead457",
   "metadata": {},
   "outputs": [],
   "source": []
  }
 ],
 "metadata": {
  "kernelspec": {
   "display_name": "Python 3 (ipykernel)",
   "language": "python",
   "name": "python3"
  },
  "language_info": {
   "codemirror_mode": {
    "name": "ipython",
    "version": 3
   },
   "file_extension": ".py",
   "mimetype": "text/x-python",
   "name": "python",
   "nbconvert_exporter": "python",
   "pygments_lexer": "ipython3",
   "version": "3.10.2"
  }
 },
 "nbformat": 4,
 "nbformat_minor": 5
}
